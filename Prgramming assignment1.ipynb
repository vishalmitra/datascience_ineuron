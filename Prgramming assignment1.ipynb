{
 "cells": [
  {
   "cell_type": "code",
   "execution_count": null,
   "id": "6c15f685",
   "metadata": {},
   "outputs": [],
   "source": [
    "\"\"\"1. Write a Python program to print &quot;Hello Python&quot;?\n",
    "2. Write a Python program to do arithmetical operations addition and division.?\n",
    "3. Write a Python program to find the area of a triangle?\n",
    "4. Write a Python program to swap two variables?\n",
    "5. Write a Python program to generate a random number?\"\"\""
   ]
  },
  {
   "cell_type": "code",
   "execution_count": null,
   "id": "9588ac23",
   "metadata": {},
   "outputs": [],
   "source": [
    "#1\n",
    "print(\"Hello Python\")"
   ]
  },
  {
   "cell_type": "code",
   "execution_count": 4,
   "id": "713e9ac0",
   "metadata": {},
   "outputs": [
    {
     "name": "stdout",
     "output_type": "stream",
     "text": [
      "1+0\n",
      "1\n",
      "10\n",
      "-87\n"
     ]
    }
   ],
   "source": [
    "#2\n",
    "print(eval(input())) # give any thing like 1+3=3 1-7 1*7\n",
    "\n",
    "print(1+9,2-89,sep=\"\\n\")\n"
   ]
  },
  {
   "cell_type": "code",
   "execution_count": 7,
   "id": "198124f0",
   "metadata": {},
   "outputs": [
    {
     "name": "stdout",
     "output_type": "stream",
     "text": [
      "4\n",
      "3\n",
      "6.0\n"
     ]
    }
   ],
   "source": [
    "#3\n",
    "print(0.5 *  int(input())* int(input()) )\n"
   ]
  },
  {
   "cell_type": "code",
   "execution_count": 10,
   "id": "9d4c1541",
   "metadata": {},
   "outputs": [
    {
     "name": "stdout",
     "output_type": "stream",
     "text": [
      "a=1,b=2\n",
      "a=2,b=1\n"
     ]
    }
   ],
   "source": [
    "#4\n",
    "a,b=1,2\n",
    "print(f\"a={a},b={b}\")\n",
    "a,b=b,a\n",
    "print(f\"a={a},b={b}\")"
   ]
  },
  {
   "cell_type": "code",
   "execution_count": 14,
   "id": "5cd6aefa",
   "metadata": {},
   "outputs": [
    {
     "name": "stdout",
     "output_type": "stream",
     "text": [
      "27\n"
     ]
    }
   ],
   "source": [
    "#5\n",
    "import random\n",
    "print(random.randint(0,100))"
   ]
  },
  {
   "cell_type": "code",
   "execution_count": null,
   "id": "8bab21f7",
   "metadata": {},
   "outputs": [],
   "source": []
  }
 ],
 "metadata": {
  "kernelspec": {
   "display_name": "Python 3 (ipykernel)",
   "language": "python",
   "name": "python3"
  },
  "language_info": {
   "codemirror_mode": {
    "name": "ipython",
    "version": 3
   },
   "file_extension": ".py",
   "mimetype": "text/x-python",
   "name": "python",
   "nbconvert_exporter": "python",
   "pygments_lexer": "ipython3",
   "version": "3.10.0"
  }
 },
 "nbformat": 4,
 "nbformat_minor": 5
}
