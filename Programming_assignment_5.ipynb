{
 "cells": [
  {
   "cell_type": "code",
   "execution_count": null,
   "id": "c075c40e",
   "metadata": {},
   "outputs": [],
   "source": [
    "\"\"\"1. Write a Python Program to Find LCM?\n",
    "2. Write a Python Program to Find HCF?\n",
    "3. Write a Python Program to Convert Decimal to Binary, Octal and Hexadecimal?\n",
    "4. Write a Python Program To Find ASCII value of a character?\n",
    "5. Write a Python Program to Make a Simple Calculator with 4 basic mathematical operations?\"\"\""
   ]
  },
  {
   "cell_type": "code",
   "execution_count": null,
   "id": "0970ee20",
   "metadata": {},
   "outputs": [],
   "source": [
    "1. Write a Python Program to Find LCM?\n",
    "2. Write a Python Program to Find HCF?\n",
    "3. Write a Python Program to Convert Decimal to Binary, Octal and Hexadecimal?\n",
    "4. Write a Python Program To Find ASCII value of a character?\n",
    "5. Write a Python Program to Make a Simple Calculator with 4 basic mathematical operations?"
   ]
  },
  {
   "cell_type": "code",
   "execution_count": 2,
   "id": "cdde0f9c",
   "metadata": {},
   "outputs": [
    {
     "name": "stdout",
     "output_type": "stream",
     "text": [
      "54\n",
      "24\n",
      "216\n"
     ]
    }
   ],
   "source": [
    "#1\n",
    "\n",
    "a,b=int(input()),int(input())\n",
    "big= a if a>b else b\n",
    "\n",
    "while(True):\n",
    "    if big%a==0 and big%b==0:\n",
    "        lcm=big\n",
    "        break\n",
    "    big+=1    \n",
    "print(lcm)        "
   ]
  },
  {
   "cell_type": "code",
   "execution_count": 4,
   "id": "dc6a6e00",
   "metadata": {},
   "outputs": [
    {
     "name": "stdout",
     "output_type": "stream",
     "text": [
      "300\n",
      "400\n",
      "HCF is100\n"
     ]
    }
   ],
   "source": [
    "#2\n",
    "a,b=int(input()),int(input())\n",
    "while(b):a,b=b,a%b\n",
    "print(f\"HCF is {a}\")\n",
    "    "
   ]
  },
  {
   "cell_type": "code",
   "execution_count": 5,
   "id": "28274445",
   "metadata": {},
   "outputs": [
    {
     "name": "stdout",
     "output_type": "stream",
     "text": [
      "10\n",
      "0b1010 0o12 0xa\n"
     ]
    }
   ],
   "source": [
    "#3\n",
    "v=int(input())\n",
    "print(bin(v),oct(v),hex(v))"
   ]
  },
  {
   "cell_type": "code",
   "execution_count": 3,
   "id": "f5479510",
   "metadata": {},
   "outputs": [
    {
     "name": "stdout",
     "output_type": "stream",
     "text": [
      "^\n",
      "94\n"
     ]
    }
   ],
   "source": [
    "#4\n",
    "print(ord(input()))"
   ]
  },
  {
   "cell_type": "code",
   "execution_count": 5,
   "id": "98f1ded3",
   "metadata": {},
   "outputs": [
    {
     "name": "stdout",
     "output_type": "stream",
     "text": [
      "1+2\n",
      "3\n"
     ]
    }
   ],
   "source": [
    "#5\n",
    "print(eval(input()))"
   ]
  },
  {
   "cell_type": "code",
   "execution_count": null,
   "id": "c329ddf4",
   "metadata": {},
   "outputs": [],
   "source": []
  }
 ],
 "metadata": {
  "kernelspec": {
   "display_name": "Python 3 (ipykernel)",
   "language": "python",
   "name": "python3"
  },
  "language_info": {
   "codemirror_mode": {
    "name": "ipython",
    "version": 3
   },
   "file_extension": ".py",
   "mimetype": "text/x-python",
   "name": "python",
   "nbconvert_exporter": "python",
   "pygments_lexer": "ipython3",
   "version": "3.10.0"
  }
 },
 "nbformat": 4,
 "nbformat_minor": 5
}
