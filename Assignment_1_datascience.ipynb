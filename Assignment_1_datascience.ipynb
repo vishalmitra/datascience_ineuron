{
 "cells": [
  {
   "cell_type": "code",
   "execution_count": null,
   "metadata": {},
   "outputs": [],
   "source": [
    "\"\"\" 1. In the below elements which of them are values or an expression? eg:- values\"\"\"\n",
    "*  asterisk its expression (can use for mulpiplication ** for exponential)\n",
    "'hello' its a value its string\n",
    "\n",
    "-87.8 its a floting value\n",
    "- its a arithematic expression ,substrction operator\n",
    "\n",
    "/ its a arithematic expression division\n",
    "\n",
    "+ its a arithematic expression addition\n",
    "\n",
    "6  its value integer\n",
    "\n",
    "\n"
   ]
  },
  {
   "cell_type": "code",
   "execution_count": 3,
   "metadata": {},
   "outputs": [
    {
     "name": "stdout",
     "output_type": "stream",
     "text": [
      "ref\n",
      "<class 'str'>\n"
     ]
    }
   ],
   "source": [
    "\"\"\" 2. What is the difference between string and variable?\"\"\"\n",
    "\n",
    "#string is datatype str\n",
    "e=\"mitra\"\n",
    "print(type(input())) # takes string as default give its .__class__\n",
    "\n",
    "#variable is hold the datatype in it in particular location\n",
    "\n",
    "a=b=c=\"Ineuron\" # a,b,c are variables "
   ]
  },
  {
   "cell_type": "code",
   "execution_count": 6,
   "metadata": {},
   "outputs": [
    {
     "name": "stdout",
     "output_type": "stream",
     "text": [
      "sdf\n",
      "12\n",
      "23\n",
      "<class 'str'> <class 'int'> <class 'float'>\n"
     ]
    }
   ],
   "source": [
    "\"\"\" 3. Describe three different data types.\"\"\"\n",
    "print(type(input()), type(int(input())), type(float(input())))\n",
    "#give  string  first then interger and lastly floating value\n",
    "\"\"\" \n",
    "1.string -group charectors\n",
    "2.interger - ex 131,434,-342   numeric\n",
    "3.floating value  -ex : 1.2 ,-1.343  numeric\n",
    "4.True,False -uts boolean\n",
    "\"\"\""
   ]
  },
  {
   "cell_type": "code",
   "execution_count": null,
   "metadata": {},
   "outputs": [],
   "source": [
    "#4. What is an expression made up of? What do all expressions do?\n",
    "     ex= a+b\n",
    "\"\"\"   its a combination of the operands(ex-a,b) as well as operators(+,-,*,/) , these will be run based on precedance of operators\"\"\"\n",
    "\n"
   ]
  },
  {
   "cell_type": "code",
   "execution_count": null,
   "metadata": {},
   "outputs": [],
   "source": [
    "\"\"\"\n",
    "5. This assignment statements, like spam = 10. What is the difference between an\n",
    "expression and a statement?\n",
    "\"\"\"\n",
    "A statement is a complete line of code that performs some action,\n",
    "while an expression is any section of the code that evaluates to a value.\n",
    "\n",
    "#statement ----->  print([*range(10)]),\n",
    "#expression -----> (a+b+c)**2\n",
    "                  \n"
   ]
  },
  {
   "cell_type": "code",
   "execution_count": 3,
   "metadata": {},
   "outputs": [
    {
     "data": {
      "text/plain": [
       "23"
      ]
     },
     "execution_count": 3,
     "metadata": {},
     "output_type": "execute_result"
    }
   ],
   "source": [
    "\"\"\" 6. After running the following code, what does the variable bacon contain?\n",
    "bacon = 22\n",
    "bacon + 1\"\"\"\n",
    "\n",
    "bacon = 22\n",
    "\n",
    "bacon + 1\n",
    "\n",
    "ans ----->  23\n",
    "\n",
    "#also can do bacon+=1 for incrementing"
   ]
  },
  {
   "cell_type": "code",
   "execution_count": 6,
   "metadata": {},
   "outputs": [
    {
     "name": "stdout",
     "output_type": "stream",
     "text": [
      "spamspam\n"
     ]
    }
   ],
   "source": [
    "\"\"\"\n",
    "7. What should the values of the following two terms be?\n",
    "    'spam'+'spam'\n",
    "    \"spam\"*3\n",
    "\"\"\"\n",
    "a. it will concatinate like ------>  spamspam\n",
    "b. it will mupliply \"spam\" for three time  --------> spamspamspam"
   ]
  },
  {
   "cell_type": "code",
   "execution_count": 8,
   "metadata": {},
   "outputs": [
    {
     "name": "stdout",
     "output_type": "stream",
     "text": [
      "spamspamspam\n"
     ]
    }
   ],
   "source": [
    "# 8. Why is eggs a valid variable name while 100 is invalid?\n",
    "\n",
    "A variable name must start with a letter or the underscore character.\n",
    "A variable name cannot start with a number.\n",
    "A variable name can only contain alpha-numeric characters and underscores (A-z, 0-9, and _ )"
   ]
  },
  {
   "cell_type": "code",
   "execution_count": 14,
   "metadata": {},
   "outputs": [
    {
     "name": "stdout",
     "output_type": "stream",
     "text": [
      "1\n",
      "1\n",
      "1.0\n"
     ]
    }
   ],
   "source": [
    "# 9.What three functions can be used to get the integer, floating-point number, or string version of a value?\n",
    "\n",
    "print(str(1),int(1),float(1),sep=\"\\n\")\n",
    "\n"
   ]
  },
  {
   "cell_type": "code",
   "execution_count": 18,
   "metadata": {},
   "outputs": [
    {
     "name": "stdout",
     "output_type": "stream",
     "text": [
      " I have eaten 99 burritos\n"
     ]
    }
   ],
   "source": [
    "\"\"\" \n",
    "10. Why does this expression cause an error? How can you fix it?\n",
    "\n",
    "\" I have eaten \"+99+'burritos'\n",
    "\n",
    "\"\"\"\n",
    "# solution\n",
    "print(\" I have eaten \"+str(99)+' burritos')\n",
    "\n",
    "#because interger cant concate with string"
   ]
  },
  {
   "cell_type": "code",
   "execution_count": 16,
   "metadata": {},
   "outputs": [
    {
     "name": "stdout",
     "output_type": "stream",
     "text": [
      "sdf\n",
      "sdf\n",
      "\n",
      "sdf\n",
      "\n"
     ]
    }
   ],
   "source": [
    "    \n",
    "    \n",
    "    "
   ]
  },
  {
   "cell_type": "code",
   "execution_count": null,
   "metadata": {},
   "outputs": [],
   "source": []
  }
 ],
 "metadata": {
  "kernelspec": {
   "display_name": "Python 3 (ipykernel)",
   "language": "python",
   "name": "python3"
  },
  "language_info": {
   "codemirror_mode": {
    "name": "ipython",
    "version": 3
   },
   "file_extension": ".py",
   "mimetype": "text/x-python",
   "name": "python",
   "nbconvert_exporter": "python",
   "pygments_lexer": "ipython3",
   "version": "3.10.0"
  }
 },
 "nbformat": 4,
 "nbformat_minor": 2
}
