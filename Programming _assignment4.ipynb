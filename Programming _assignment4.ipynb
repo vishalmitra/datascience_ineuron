{
 "cells": [
  {
   "cell_type": "code",
   "execution_count": null,
   "id": "5229f9a8",
   "metadata": {},
   "outputs": [],
   "source": [
    "\"\"\"1. Write a Python Program to Find the Factorial of a Number?\n",
    "2. Write a Python Program to Display the multiplication Table?\n",
    "3. Write a Python Program to Print the Fibonacci sequence?\n",
    "4. Write a Python Program to Check Armstrong Number?\n",
    "5. Write a Python Program to Find Armstrong Number in an Interval?\n",
    "6. Write a Python Program to Find the Sum of Natural Numbers?\"\"\""
   ]
  },
  {
   "cell_type": "code",
   "execution_count": 79,
   "id": "3233d459",
   "metadata": {},
   "outputs": [
    {
     "name": "stdout",
     "output_type": "stream",
     "text": [
      "enter the number FOR FACTORIAL 10\n",
      "3628800\n"
     ]
    }
   ],
   "source": [
    "#1\n",
    "from functools import reduce\n",
    "n=int(input(\"enter the number FOR FACTORIAL \"))\n",
    "print(  0 if n==0   else  reduce(lambda x,y : x*y,[*range(1,n+1)])) "
   ]
  },
  {
   "cell_type": "code",
   "execution_count": 22,
   "id": "f7fb7512",
   "metadata": {},
   "outputs": [
    {
     "name": "stdout",
     "output_type": "stream",
     "text": [
      "enter the number for table 10\n",
      "10*1=10\n",
      "10*2=20\n",
      "10*3=30\n",
      "10*4=40\n",
      "10*5=50\n",
      "10*6=60\n",
      "10*7=70\n",
      "10*8=80\n",
      "10*9=90\n",
      "10*10=100\n"
     ]
    }
   ],
   "source": [
    "#2\n",
    "n=int(input(\"enter the number for table \"))\n",
    "for i in range(1,11):print(f\"{n}*{i}={n*i}\")"
   ]
  },
  {
   "cell_type": "code",
   "execution_count": 5,
   "id": "a1c77c79",
   "metadata": {},
   "outputs": [
    {
     "name": "stdout",
     "output_type": "stream",
     "text": [
      "0 1 1 2 3 5 8 13 21 34 55 89 144 233 377 610 987 1597 2584 "
     ]
    }
   ],
   "source": [
    "#3\n",
    "a,b=0,1\n",
    "print(a,b,end=\" \")\n",
    "for i in range(3,20):\n",
    "    c=a+b\n",
    "    print(c,end=\" \")\n",
    "    a=b\n",
    "    b=c\n",
    "    \n"
   ]
  },
  {
   "cell_type": "code",
   "execution_count": 84,
   "id": "f83ed620",
   "metadata": {},
   "outputs": [
    {
     "name": "stdout",
     "output_type": "stream",
     "text": [
      "0\n",
      "not amstrong number\n"
     ]
    }
   ],
   "source": [
    "#4\n",
    "n=int((input()))\n",
    "print( \"amstrong number\" if n == sum([int(i)**3 for i in str(n)]) and n!=0 or ( n in [*range(1,10)] ) else \"not amstrong number\"   )\n",
    "     "
   ]
  },
  {
   "cell_type": "code",
   "execution_count": 85,
   "id": "2a0a86e2",
   "metadata": {},
   "outputs": [
    {
     "name": "stdout",
     "output_type": "stream",
     "text": [
      "starting value 0\n",
      "ending range 10\n",
      "1 2 3 4 5 6 7 8 9\n"
     ]
    }
   ],
   "source": [
    "#5\n",
    "# gives all amstrong numbes in given \"two input-intervals\" inter\n",
    "print(*list(filter(lambda x : x==sum(int(i)**3 for i in str(x)) and n!=0  or (x in [*range(1,10)]  ),[*range(int(input(\"starting value \")),int(input(\"ending range \"))+1)])))\n"
   ]
  },
  {
   "cell_type": "code",
   "execution_count": 76,
   "id": "97fb6821",
   "metadata": {},
   "outputs": [
    {
     "name": "stdout",
     "output_type": "stream",
     "text": [
      "3\n",
      "6\n"
     ]
    }
   ],
   "source": [
    "#6\n",
    "#give with in the  range natural numbers (including the number you given)\n",
    "print(sum([i for i in range(1,int(input())+1)]))"
   ]
  },
  {
   "cell_type": "code",
   "execution_count": null,
   "id": "6631ac01",
   "metadata": {},
   "outputs": [],
   "source": []
  }
 ],
 "metadata": {
  "kernelspec": {
   "display_name": "Python 3 (ipykernel)",
   "language": "python",
   "name": "python3"
  },
  "language_info": {
   "codemirror_mode": {
    "name": "ipython",
    "version": 3
   },
   "file_extension": ".py",
   "mimetype": "text/x-python",
   "name": "python",
   "nbconvert_exporter": "python",
   "pygments_lexer": "ipython3",
   "version": "3.10.0"
  }
 },
 "nbformat": 4,
 "nbformat_minor": 5
}
